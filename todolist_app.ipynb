{
  "nbformat": 4,
  "nbformat_minor": 0,
  "metadata": {
    "colab": {
      "provenance": [],
      "authorship_tag": "ABX9TyONyEdYBmQg7u05bUHjjEAX",
      "include_colab_link": true
    },
    "kernelspec": {
      "name": "python3",
      "display_name": "Python 3"
    },
    "language_info": {
      "name": "python"
    }
  },
  "cells": [
    {
      "cell_type": "markdown",
      "metadata": {
        "id": "view-in-github",
        "colab_type": "text"
      },
      "source": [
        "<a href=\"https://colab.research.google.com/github/Bindhushree2529/ToDoList/blob/main/todolist_app.ipynb\" target=\"_parent\"><img src=\"https://colab.research.google.com/assets/colab-badge.svg\" alt=\"Open In Colab\"/></a>"
      ]
    },
    {
      "cell_type": "code",
      "execution_count": 1,
      "metadata": {
        "colab": {
          "base_uri": "https://localhost:8080/"
        },
        "id": "p6AU2fRd3vd6",
        "outputId": "794093a3-3ed1-4570-b1b4-9fe8238afe2c"
      },
      "outputs": [
        {
          "output_type": "stream",
          "name": "stdout",
          "text": [
            "\n",
            "1. Add Task\n",
            "2. Mark Task as Completed\n",
            "3. View Tasks\n",
            "4. Exit\n",
            "Enter your choice: 1\n",
            "Enter task to add: reading\n",
            "Task added!\n",
            "\n",
            "1. Add Task\n",
            "2. Mark Task as Completed\n",
            "3. View Tasks\n",
            "4. Exit\n",
            "Enter your choice: 3\n",
            "\n",
            "Tasks:\n",
            "1. [✗] reading\n",
            "\n",
            "1. Add Task\n",
            "2. Mark Task as Completed\n",
            "3. View Tasks\n",
            "4. Exit\n",
            "Enter your choice: 4\n",
            "Exiting program.\n"
          ]
        }
      ],
      "source": [
        "class TodoList:\n",
        "    def __init__(self):\n",
        "        self.tasks = []\n",
        "\n",
        "    def add_task(self, task):\n",
        "        self.tasks.append({\"task\": task, \"completed\": False})\n",
        "\n",
        "    def mark_completed(self, task_index):\n",
        "        if 0 <= task_index < len(self.tasks):\n",
        "            self.tasks[task_index][\"completed\"] = True\n",
        "        else:\n",
        "            print(\"Invalid task index!\")\n",
        "\n",
        "    def display_tasks(self):\n",
        "        if not self.tasks:\n",
        "            print(\"No tasks in the list.\")\n",
        "        else:\n",
        "            for index, task in enumerate(self.tasks):\n",
        "                status = \"✓\" if task[\"completed\"] else \"✗\"\n",
        "                print(f\"{index + 1}. [{status}] {task['task']}\")\n",
        "\n",
        "def main():\n",
        "    todo_list = TodoList()\n",
        "    while True:\n",
        "        print(\"\\n1. Add Task\")\n",
        "        print(\"2. Mark Task as Completed\")\n",
        "        print(\"3. View Tasks\")\n",
        "        print(\"4. Exit\")\n",
        "        choice = input(\"Enter your choice: \")\n",
        "\n",
        "        if choice == '1':\n",
        "            task = input(\"Enter task to add: \")\n",
        "            todo_list.add_task(task)\n",
        "            print(\"Task added!\")\n",
        "\n",
        "        elif choice == '2':\n",
        "            task_index = int(input(\"Enter task index to mark as completed: \")) - 1\n",
        "            todo_list.mark_completed(task_index)\n",
        "            print(\"Task marked as completed!\")\n",
        "\n",
        "        elif choice == '3':\n",
        "            print(\"\\nTasks:\")\n",
        "            todo_list.display_tasks()\n",
        "\n",
        "        elif choice == '4':\n",
        "            print(\"Exiting program.\")\n",
        "            break\n",
        "\n",
        "        else:\n",
        "            print(\"Invalid choice. Please enter a number from 1 to 4.\")\n",
        "\n",
        "if __name__ == \"__main__\":\n",
        "    main()\n"
      ]
    }
  ]
}